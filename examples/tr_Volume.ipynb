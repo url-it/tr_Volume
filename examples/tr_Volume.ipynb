{
 "cells": [
  {
   "cell_type": "code",
   "execution_count": null,
   "metadata": {
    "vscode": {
     "languageId": "plaintext"
    }
   },
   "outputs": [],
   "source": [
    "!git clone \n",
    "cd tr_Volume\n",
    "cd src\n",
    "!make\n",
    "cp mpyproj ../bin/\n",
    "cd ..\n",
    "import sys, os\n",
    "sys.path.insert(0,os.path.abspath('bin'))\n",
    "import tr_Volume\n",
    "tr_Volume.gui\n"
   ]
  }
 ],
 "metadata": {
  "language_info": {
   "name": "python"
  }
 },
 "nbformat": 4,
 "nbformat_minor": 2
}
